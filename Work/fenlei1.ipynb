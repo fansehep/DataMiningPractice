{
 "cells": [
  {
   "cell_type": "code",
   "execution_count": 1,
   "id": "32c4dde2",
   "metadata": {},
   "outputs": [
    {
     "data": {
      "text/plain": [
       "'1.0.2'"
      ]
     },
     "execution_count": 1,
     "metadata": {},
     "output_type": "execute_result"
    }
   ],
   "source": [
    "#导入sklearn包\n",
    "import sklearn\n",
    "\n",
    "#输出sklearn的版本号\n",
    "sklearn.__version__"
   ]
  },
  {
   "cell_type": "code",
   "execution_count": 2,
   "id": "4d61b8da",
   "metadata": {},
   "outputs": [],
   "source": [
    "#导入所需要的包\n",
    "from sklearn import datasets\n",
    "from sklearn.decomposition import TruncatedSVD\n",
    "import matplotlib.pyplot as plt"
   ]
  },
  {
   "cell_type": "code",
   "execution_count": 3,
   "id": "e656de3a",
   "metadata": {},
   "outputs": [
    {
     "name": "stdout",
     "output_type": "stream",
     "text": [
      "{'data': array([[5.1, 3.5, 1.4, 0.2],\n",
      "       [4.9, 3. , 1.4, 0.2],\n",
      "       [4.7, 3.2, 1.3, 0.2],\n",
      "       [4.6, 3.1, 1.5, 0.2],\n",
      "       [5. , 3.6, 1.4, 0.2],\n",
      "       [5.4, 3.9, 1.7, 0.4],\n",
      "       [4.6, 3.4, 1.4, 0.3],\n",
      "       [5. , 3.4, 1.5, 0.2],\n",
      "       [4.4, 2.9, 1.4, 0.2],\n",
      "       [4.9, 3.1, 1.5, 0.1],\n",
      "       [5.4, 3.7, 1.5, 0.2],\n",
      "       [4.8, 3.4, 1.6, 0.2],\n",
      "       [4.8, 3. , 1.4, 0.1],\n",
      "       [4.3, 3. , 1.1, 0.1],\n",
      "       [5.8, 4. , 1.2, 0.2],\n",
      "       [5.7, 4.4, 1.5, 0.4],\n",
      "       [5.4, 3.9, 1.3, 0.4],\n",
      "       [5.1, 3.5, 1.4, 0.3],\n",
      "       [5.7, 3.8, 1.7, 0.3],\n",
      "       [5.1, 3.8, 1.5, 0.3],\n",
      "       [5.4, 3.4, 1.7, 0.2],\n",
      "       [5.1, 3.7, 1.5, 0.4],\n",
      "       [4.6, 3.6, 1. , 0.2],\n",
      "       [5.1, 3.3, 1.7, 0.5],\n",
      "       [4.8, 3.4, 1.9, 0.2],\n",
      "       [5. , 3. , 1.6, 0.2],\n",
      "       [5. , 3.4, 1.6, 0.4],\n",
      "       [5.2, 3.5, 1.5, 0.2],\n",
      "       [5.2, 3.4, 1.4, 0.2],\n",
      "       [4.7, 3.2, 1.6, 0.2],\n",
      "       [4.8, 3.1, 1.6, 0.2],\n",
      "       [5.4, 3.4, 1.5, 0.4],\n",
      "       [5.2, 4.1, 1.5, 0.1],\n",
      "       [5.5, 4.2, 1.4, 0.2],\n",
      "       [4.9, 3.1, 1.5, 0.2],\n",
      "       [5. , 3.2, 1.2, 0.2],\n",
      "       [5.5, 3.5, 1.3, 0.2],\n",
      "       [4.9, 3.6, 1.4, 0.1],\n",
      "       [4.4, 3. , 1.3, 0.2],\n",
      "       [5.1, 3.4, 1.5, 0.2],\n",
      "       [5. , 3.5, 1.3, 0.3],\n",
      "       [4.5, 2.3, 1.3, 0.3],\n",
      "       [4.4, 3.2, 1.3, 0.2],\n",
      "       [5. , 3.5, 1.6, 0.6],\n",
      "       [5.1, 3.8, 1.9, 0.4],\n",
      "       [4.8, 3. , 1.4, 0.3],\n",
      "       [5.1, 3.8, 1.6, 0.2],\n",
      "       [4.6, 3.2, 1.4, 0.2],\n",
      "       [5.3, 3.7, 1.5, 0.2],\n",
      "       [5. , 3.3, 1.4, 0.2],\n",
      "       [7. , 3.2, 4.7, 1.4],\n",
      "       [6.4, 3.2, 4.5, 1.5],\n",
      "       [6.9, 3.1, 4.9, 1.5],\n",
      "       [5.5, 2.3, 4. , 1.3],\n",
      "       [6.5, 2.8, 4.6, 1.5],\n",
      "       [5.7, 2.8, 4.5, 1.3],\n",
      "       [6.3, 3.3, 4.7, 1.6],\n",
      "       [4.9, 2.4, 3.3, 1. ],\n",
      "       [6.6, 2.9, 4.6, 1.3],\n",
      "       [5.2, 2.7, 3.9, 1.4],\n",
      "       [5. , 2. , 3.5, 1. ],\n",
      "       [5.9, 3. , 4.2, 1.5],\n",
      "       [6. , 2.2, 4. , 1. ],\n",
      "       [6.1, 2.9, 4.7, 1.4],\n",
      "       [5.6, 2.9, 3.6, 1.3],\n",
      "       [6.7, 3.1, 4.4, 1.4],\n",
      "       [5.6, 3. , 4.5, 1.5],\n",
      "       [5.8, 2.7, 4.1, 1. ],\n",
      "       [6.2, 2.2, 4.5, 1.5],\n",
      "       [5.6, 2.5, 3.9, 1.1],\n",
      "       [5.9, 3.2, 4.8, 1.8],\n",
      "       [6.1, 2.8, 4. , 1.3],\n",
      "       [6.3, 2.5, 4.9, 1.5],\n",
      "       [6.1, 2.8, 4.7, 1.2],\n",
      "       [6.4, 2.9, 4.3, 1.3],\n",
      "       [6.6, 3. , 4.4, 1.4],\n",
      "       [6.8, 2.8, 4.8, 1.4],\n",
      "       [6.7, 3. , 5. , 1.7],\n",
      "       [6. , 2.9, 4.5, 1.5],\n",
      "       [5.7, 2.6, 3.5, 1. ],\n",
      "       [5.5, 2.4, 3.8, 1.1],\n",
      "       [5.5, 2.4, 3.7, 1. ],\n",
      "       [5.8, 2.7, 3.9, 1.2],\n",
      "       [6. , 2.7, 5.1, 1.6],\n",
      "       [5.4, 3. , 4.5, 1.5],\n",
      "       [6. , 3.4, 4.5, 1.6],\n",
      "       [6.7, 3.1, 4.7, 1.5],\n",
      "       [6.3, 2.3, 4.4, 1.3],\n",
      "       [5.6, 3. , 4.1, 1.3],\n",
      "       [5.5, 2.5, 4. , 1.3],\n",
      "       [5.5, 2.6, 4.4, 1.2],\n",
      "       [6.1, 3. , 4.6, 1.4],\n",
      "       [5.8, 2.6, 4. , 1.2],\n",
      "       [5. , 2.3, 3.3, 1. ],\n",
      "       [5.6, 2.7, 4.2, 1.3],\n",
      "       [5.7, 3. , 4.2, 1.2],\n",
      "       [5.7, 2.9, 4.2, 1.3],\n",
      "       [6.2, 2.9, 4.3, 1.3],\n",
      "       [5.1, 2.5, 3. , 1.1],\n",
      "       [5.7, 2.8, 4.1, 1.3],\n",
      "       [6.3, 3.3, 6. , 2.5],\n",
      "       [5.8, 2.7, 5.1, 1.9],\n",
      "       [7.1, 3. , 5.9, 2.1],\n",
      "       [6.3, 2.9, 5.6, 1.8],\n",
      "       [6.5, 3. , 5.8, 2.2],\n",
      "       [7.6, 3. , 6.6, 2.1],\n",
      "       [4.9, 2.5, 4.5, 1.7],\n",
      "       [7.3, 2.9, 6.3, 1.8],\n",
      "       [6.7, 2.5, 5.8, 1.8],\n",
      "       [7.2, 3.6, 6.1, 2.5],\n",
      "       [6.5, 3.2, 5.1, 2. ],\n",
      "       [6.4, 2.7, 5.3, 1.9],\n",
      "       [6.8, 3. , 5.5, 2.1],\n",
      "       [5.7, 2.5, 5. , 2. ],\n",
      "       [5.8, 2.8, 5.1, 2.4],\n",
      "       [6.4, 3.2, 5.3, 2.3],\n",
      "       [6.5, 3. , 5.5, 1.8],\n",
      "       [7.7, 3.8, 6.7, 2.2],\n",
      "       [7.7, 2.6, 6.9, 2.3],\n",
      "       [6. , 2.2, 5. , 1.5],\n",
      "       [6.9, 3.2, 5.7, 2.3],\n",
      "       [5.6, 2.8, 4.9, 2. ],\n",
      "       [7.7, 2.8, 6.7, 2. ],\n",
      "       [6.3, 2.7, 4.9, 1.8],\n",
      "       [6.7, 3.3, 5.7, 2.1],\n",
      "       [7.2, 3.2, 6. , 1.8],\n",
      "       [6.2, 2.8, 4.8, 1.8],\n",
      "       [6.1, 3. , 4.9, 1.8],\n",
      "       [6.4, 2.8, 5.6, 2.1],\n",
      "       [7.2, 3. , 5.8, 1.6],\n",
      "       [7.4, 2.8, 6.1, 1.9],\n",
      "       [7.9, 3.8, 6.4, 2. ],\n",
      "       [6.4, 2.8, 5.6, 2.2],\n",
      "       [6.3, 2.8, 5.1, 1.5],\n",
      "       [6.1, 2.6, 5.6, 1.4],\n",
      "       [7.7, 3. , 6.1, 2.3],\n",
      "       [6.3, 3.4, 5.6, 2.4],\n",
      "       [6.4, 3.1, 5.5, 1.8],\n",
      "       [6. , 3. , 4.8, 1.8],\n",
      "       [6.9, 3.1, 5.4, 2.1],\n",
      "       [6.7, 3.1, 5.6, 2.4],\n",
      "       [6.9, 3.1, 5.1, 2.3],\n",
      "       [5.8, 2.7, 5.1, 1.9],\n",
      "       [6.8, 3.2, 5.9, 2.3],\n",
      "       [6.7, 3.3, 5.7, 2.5],\n",
      "       [6.7, 3. , 5.2, 2.3],\n",
      "       [6.3, 2.5, 5. , 1.9],\n",
      "       [6.5, 3. , 5.2, 2. ],\n",
      "       [6.2, 3.4, 5.4, 2.3],\n",
      "       [5.9, 3. , 5.1, 1.8]]), 'target': array([0, 0, 0, 0, 0, 0, 0, 0, 0, 0, 0, 0, 0, 0, 0, 0, 0, 0, 0, 0, 0, 0,\n",
      "       0, 0, 0, 0, 0, 0, 0, 0, 0, 0, 0, 0, 0, 0, 0, 0, 0, 0, 0, 0, 0, 0,\n",
      "       0, 0, 0, 0, 0, 0, 1, 1, 1, 1, 1, 1, 1, 1, 1, 1, 1, 1, 1, 1, 1, 1,\n",
      "       1, 1, 1, 1, 1, 1, 1, 1, 1, 1, 1, 1, 1, 1, 1, 1, 1, 1, 1, 1, 1, 1,\n",
      "       1, 1, 1, 1, 1, 1, 1, 1, 1, 1, 1, 1, 2, 2, 2, 2, 2, 2, 2, 2, 2, 2,\n",
      "       2, 2, 2, 2, 2, 2, 2, 2, 2, 2, 2, 2, 2, 2, 2, 2, 2, 2, 2, 2, 2, 2,\n",
      "       2, 2, 2, 2, 2, 2, 2, 2, 2, 2, 2, 2, 2, 2, 2, 2, 2, 2]), 'frame': None, 'target_names': array(['setosa', 'versicolor', 'virginica'], dtype='<U10'), 'DESCR': '.. _iris_dataset:\\n\\nIris plants dataset\\n--------------------\\n\\n**Data Set Characteristics:**\\n\\n    :Number of Instances: 150 (50 in each of three classes)\\n    :Number of Attributes: 4 numeric, predictive attributes and the class\\n    :Attribute Information:\\n        - sepal length in cm\\n        - sepal width in cm\\n        - petal length in cm\\n        - petal width in cm\\n        - class:\\n                - Iris-Setosa\\n                - Iris-Versicolour\\n                - Iris-Virginica\\n                \\n    :Summary Statistics:\\n\\n    ============== ==== ==== ======= ===== ====================\\n                    Min  Max   Mean    SD   Class Correlation\\n    ============== ==== ==== ======= ===== ====================\\n    sepal length:   4.3  7.9   5.84   0.83    0.7826\\n    sepal width:    2.0  4.4   3.05   0.43   -0.4194\\n    petal length:   1.0  6.9   3.76   1.76    0.9490  (high!)\\n    petal width:    0.1  2.5   1.20   0.76    0.9565  (high!)\\n    ============== ==== ==== ======= ===== ====================\\n\\n    :Missing Attribute Values: None\\n    :Class Distribution: 33.3% for each of 3 classes.\\n    :Creator: R.A. Fisher\\n    :Donor: Michael Marshall (MARSHALL%PLU@io.arc.nasa.gov)\\n    :Date: July, 1988\\n\\nThe famous Iris database, first used by Sir R.A. Fisher. The dataset is taken\\nfrom Fisher\\'s paper. Note that it\\'s the same as in R, but not as in the UCI\\nMachine Learning Repository, which has two wrong data points.\\n\\nThis is perhaps the best known database to be found in the\\npattern recognition literature.  Fisher\\'s paper is a classic in the field and\\nis referenced frequently to this day.  (See Duda & Hart, for example.)  The\\ndata set contains 3 classes of 50 instances each, where each class refers to a\\ntype of iris plant.  One class is linearly separable from the other 2; the\\nlatter are NOT linearly separable from each other.\\n\\n.. topic:: References\\n\\n   - Fisher, R.A. \"The use of multiple measurements in taxonomic problems\"\\n     Annual Eugenics, 7, Part II, 179-188 (1936); also in \"Contributions to\\n     Mathematical Statistics\" (John Wiley, NY, 1950).\\n   - Duda, R.O., & Hart, P.E. (1973) Pattern Classification and Scene Analysis.\\n     (Q327.D83) John Wiley & Sons.  ISBN 0-471-22361-1.  See page 218.\\n   - Dasarathy, B.V. (1980) \"Nosing Around the Neighborhood: A New System\\n     Structure and Classification Rule for Recognition in Partially Exposed\\n     Environments\".  IEEE Transactions on Pattern Analysis and Machine\\n     Intelligence, Vol. PAMI-2, No. 1, 67-71.\\n   - Gates, G.W. (1972) \"The Reduced Nearest Neighbor Rule\".  IEEE Transactions\\n     on Information Theory, May 1972, 431-433.\\n   - See also: 1988 MLC Proceedings, 54-64.  Cheeseman et al\"s AUTOCLASS II\\n     conceptual clustering system finds 3 classes in the data.\\n   - Many, many more ...', 'feature_names': ['sepal length (cm)', 'sepal width (cm)', 'petal length (cm)', 'petal width (cm)'], 'filename': 'iris.csv', 'data_module': 'sklearn.datasets.data'}\n"
     ]
    }
   ],
   "source": [
    "#导入数据\n",
    "iris = datasets.load_iris()\n",
    "\n",
    "print(iris)"
   ]
  },
  {
   "cell_type": "code",
   "execution_count": 4,
   "id": "f1eb88c2",
   "metadata": {},
   "outputs": [],
   "source": [
    "#将数据降维2维\n",
    "svd = TruncatedSVD(n_components=2)\n",
    "emb = svd.fit_transform(iris['data'])  "
   ]
  },
  {
   "cell_type": "code",
   "execution_count": 5,
   "id": "16d6a3a6",
   "metadata": {},
   "outputs": [
    {
     "name": "stdout",
     "output_type": "stream",
     "text": [
      "[[ 5.91274714e+00  2.30203322e+00]\n",
      " [ 5.57248242e+00  1.97182599e+00]\n",
      " [ 5.44697714e+00  2.09520636e+00]\n",
      " [ 5.43645948e+00  1.87038151e+00]\n",
      " [ 5.87564494e+00  2.32829018e+00]\n",
      " [ 6.47759822e+00  2.32464996e+00]\n",
      " [ 5.51597520e+00  2.07090423e+00]\n",
      " [ 5.85092859e+00  2.14807482e+00]\n",
      " [ 5.15891972e+00  1.77506408e+00]\n",
      " [ 5.64500117e+00  1.99000106e+00]\n",
      " [ 6.26539771e+00  2.42576813e+00]\n",
      " [ 5.75200785e+00  2.02037338e+00]\n",
      " [ 5.48058085e+00  1.97777558e+00]\n",
      " [ 4.95112411e+00  2.04828749e+00]\n",
      " [ 6.52596417e+00  2.91606081e+00]\n",
      " [ 6.79037199e+00  2.82500759e+00]\n",
      " [ 6.27239468e+00  2.60811578e+00]\n",
      " [ 5.92953789e+00  2.26766614e+00]\n",
      " [ 6.64813130e+00  2.38959506e+00]\n",
      " [ 6.09486463e+00  2.36082303e+00]\n",
      " [ 6.25397363e+00  2.12001187e+00]\n",
      " [ 6.07364677e+00  2.27178150e+00]\n",
      " [ 5.36999813e+00  2.49808604e+00]\n",
      " [ 6.04100482e+00  1.87698371e+00]\n",
      " [ 5.90591050e+00  1.80777402e+00]\n",
      " [ 5.75019501e+00  1.85851056e+00]\n",
      " [ 5.93581099e+00  2.00847420e+00]\n",
      " [ 6.03915884e+00  2.25958425e+00]\n",
      " [ 5.94984934e+00  2.27577626e+00]\n",
      " [ 5.60087980e+00  1.88260699e+00]\n",
      " [ 5.63798200e+00  1.85635003e+00]\n",
      " [ 6.18495337e+00  2.19301062e+00]\n",
      " [ 6.25041979e+00  2.62199803e+00]\n",
      " [ 6.47925073e+00  2.79842433e+00]\n",
      " [ 5.66179193e+00  1.95563398e+00]\n",
      " [ 5.62100870e+00  2.25132529e+00]\n",
      " [ 6.16188952e+00  2.48656963e+00]\n",
      " [ 5.78374337e+00  2.33423977e+00]\n",
      " [ 5.14562746e+00  1.90060499e+00]\n",
      " [ 5.92603941e+00  2.17649231e+00]\n",
      " [ 5.80312619e+00  2.31011510e+00]\n",
      " [ 4.97146870e+00  1.51193425e+00]\n",
      " [ 5.22164469e+00  2.00995389e+00]\n",
      " [ 6.00740111e+00  1.99441449e+00]\n",
      " [ 6.31685893e+00  2.04299013e+00]\n",
      " [ 5.51416236e+00  1.90904141e+00]\n",
      " [ 6.12937476e+00  2.32432366e+00]\n",
      " [ 5.42316721e+00  1.99592242e+00]\n",
      " [ 6.19028689e+00  2.39735064e+00]\n",
      " [ 5.76161909e+00  2.16426683e+00]\n",
      " [ 9.12024508e+00 -7.30558200e-02]\n",
      " [ 8.58376916e+00 -1.36194931e-01]\n",
      " [ 9.12651817e+00 -3.32247752e-01]\n",
      " [ 7.27560832e+00 -4.60955955e-01]\n",
      " [ 8.55814639e+00 -3.97341697e-01]\n",
      " [ 7.87237747e+00 -4.85081002e-01]\n",
      " [ 8.66605949e+00 -2.86037963e-01]\n",
      " [ 6.45347358e+00  2.23799845e-02]\n",
      " [ 8.63768432e+00 -2.45515595e-01]\n",
      " [ 7.16780021e+00 -2.91011251e-01]\n",
      " [ 6.47915170e+00 -3.09633237e-01]\n",
      " [ 7.97829519e+00 -1.75031916e-01]\n",
      " [ 7.56278153e+00 -2.70441712e-01]\n",
      " [ 8.33022188e+00 -4.92836582e-01]\n",
      " [ 7.37356730e+00  1.78974058e-01]\n",
      " [ 8.70300135e+00 -3.83374315e-04]\n",
      " [ 7.90686540e+00 -4.72883753e-01]\n",
      " [ 7.65390386e+00 -1.24770897e-01]\n",
      " [ 8.05346136e+00 -7.39774413e-01]\n",
      " [ 7.34185398e+00 -1.83588948e-01]\n",
      " [ 8.41249000e+00 -5.93982991e-01]\n",
      " [ 7.91631631e+00 -1.70787632e-02]\n",
      " [ 8.44780157e+00 -8.30799394e-01]\n",
      " [ 8.25863175e+00 -4.78776871e-01]\n",
      " [ 8.33356003e+00 -8.97512089e-02]\n",
      " [ 8.58988192e+00 -8.34753146e-02]\n",
      " [ 8.86928986e+00 -4.19455056e-01]\n",
      " [ 9.02317031e+00 -5.83357800e-01]\n",
      " [ 8.16930004e+00 -4.13888242e-01]\n",
      " [ 7.23297912e+00  2.17335895e-01]\n",
      " [ 7.17743366e+00 -1.95814432e-01]\n",
      " [ 7.10934202e+00 -9.05808962e-02]\n",
      " [ 7.58488360e+00 -5.17721477e-02]\n",
      " [ 8.41787888e+00 -9.82802956e-01]\n",
      " [ 7.75664376e+00 -5.29718734e-01]\n",
      " [ 8.37613388e+00 -1.74883073e-01]\n",
      " [ 8.87369476e+00 -2.47349822e-01]\n",
      " [ 8.08169840e+00 -5.17081855e-01]\n",
      " [ 7.66808034e+00 -1.20683770e-01]\n",
      " [ 7.35162556e+00 -3.51607055e-01]\n",
      " [ 7.57804696e+00 -5.46031346e-01]\n",
      " [ 8.31692961e+00 -3.67295677e-01]\n",
      " [ 7.59817587e+00 -1.77313053e-01]\n",
      " [ 6.49057578e+00 -3.87697543e-03]\n",
      " [ 7.60535538e+00 -3.55573575e-01]\n",
      " [ 7.77770129e+00 -1.28765654e-01]\n",
      " [ 7.75648343e+00 -2.17807185e-01]\n",
      " [ 8.18333840e+00 -1.46586189e-01]\n",
      " [ 6.50459193e+00  3.12121701e-01]\n",
      " [ 7.66717393e+00 -2.01615180e-01]\n",
      " [ 9.48408779e+00 -1.51660561e+00]\n",
      " [ 8.31802951e+00 -1.14273918e+00]\n",
      " [ 9.85248456e+00 -1.24495426e+00]\n",
      " [ 9.00931450e+00 -1.21126802e+00]\n",
      " [ 9.36730953e+00 -1.37895983e+00]\n",
      " [ 1.05871448e+01 -1.59893200e+00]\n",
      " [ 7.22462810e+00 -1.01391260e+00]\n",
      " [ 1.01195289e+01 -1.42315831e+00]\n",
      " [ 9.26032507e+00 -1.45802877e+00]\n",
      " [ 1.03254119e+01 -1.16769130e+00]\n",
      " [ 9.05063906e+00 -7.04811578e-01]\n",
      " [ 8.87129618e+00 -1.11396715e+00]\n",
      " [ 9.42194857e+00 -1.04674091e+00]\n",
      " [ 8.13239132e+00 -1.24400619e+00]\n",
      " [ 8.43999189e+00 -1.25990013e+00]\n",
      " [ 9.12850228e+00 -9.78063221e-01]\n",
      " [ 9.14624386e+00 -1.02889214e+00]\n",
      " [ 1.10344162e+01 -1.23835244e+00]\n",
      " [ 1.06977054e+01 -2.07054584e+00]\n",
      " [ 8.15974415e+00 -1.15094167e+00]\n",
      " [ 9.70925990e+00 -1.11944159e+00]\n",
      " [ 8.12000547e+00 -1.03753388e+00]\n",
      " [ 1.06207486e+01 -1.71636278e+00]\n",
      " [ 8.57419106e+00 -8.24551736e-01]\n",
      " [ 9.56346538e+00 -1.05286796e+00]\n",
      " [ 1.00045412e+01 -1.07495308e+00]\n",
      " [ 8.48578798e+00 -7.27428321e-01]\n",
      " [ 8.53799528e+00 -7.17363366e-01]\n",
      " [ 9.09678896e+00 -1.34062623e+00]\n",
      " [ 9.79234073e+00 -9.73834912e-01]\n",
      " [ 1.00708200e+01 -1.34204944e+00]\n",
      " [ 1.09971537e+01 -9.00183935e-01]\n",
      " [ 9.11357971e+00 -1.37499331e+00]\n",
      " [ 8.66442919e+00 -8.08508955e-01]\n",
      " [ 8.67790400e+00 -1.29465803e+00]\n",
      " [ 1.04393327e+01 -1.28491639e+00]\n",
      " [ 9.30010211e+00 -1.14409826e+00]\n",
      " [ 9.10914166e+00 -1.00263518e+00]\n",
      " [ 8.41158358e+00 -6.74914401e-01]\n",
      " [ 9.48376712e+00 -8.92782514e-01]\n",
      " [ 9.48651952e+00 -1.19445165e+00]\n",
      " [ 9.36344597e+00 -7.48917309e-01]\n",
      " [ 8.31802951e+00 -1.14273918e+00]\n",
      " [ 9.73675086e+00 -1.28959199e+00]\n",
      " [ 9.63062839e+00 -1.19033628e+00]\n",
      " [ 9.22651660e+00 -9.31293195e-01]\n",
      " [ 8.56626547e+00 -1.03913417e+00]\n",
      " [ 9.02592271e+00 -8.85026933e-01]\n",
      " [ 9.10559876e+00 -9.96415757e-01]\n",
      " [ 8.49037542e+00 -9.15931258e-01]]\n"
     ]
    }
   ],
   "source": [
    "print(emb)"
   ]
  },
  {
   "cell_type": "code",
   "execution_count": 6,
   "id": "6082e4d3",
   "metadata": {},
   "outputs": [
    {
     "data": {
      "image/png": "[encoded data removed]",
      "text/plain": [
       "<Figure size 432x288 with 1 Axes>"
      ]
     },
     "metadata": {
      "needs_background": "light"
     },
     "output_type": "display_data"
    }
   ],
   "source": [
    "#绘图查看数据分布\n",
    "plt.scatter(emb[:,0],emb[:,1],c=iris['target'])\n",
    "plt.xlabel(\"sepal length (cm)\")\n",
    "plt.ylabel(\"sepal width (cm)\")\n",
    "plt.title(\"Iris Data\")\n",
    "plt.show()"
   ]
  },
  {
   "cell_type": "code",
   "execution_count": 7,
   "id": "9e8910ad",
   "metadata": {},
   "outputs": [],
   "source": [
    "#训练集、测试集划分\n",
    "\n",
    "from sklearn import model_selection\n",
    "train, test, t_train, t_test = model_selection.train_test_split(iris['data'], iris['target'], test_size=0.3, random_state=42)"
   ]
  },
  {
   "cell_type": "code",
   "execution_count": 8,
   "id": "19a2e126",
   "metadata": {},
   "outputs": [
    {
     "name": "stdout",
     "output_type": "stream",
     "text": [
      "(105, 4)\n",
      "(45, 4)\n",
      "(105,)\n",
      "(45,)\n"
     ]
    }
   ],
   "source": [
    "#输出训练集、测试集，以及训练集、测试集标签的维度\n",
    "print(train.shape)\n",
    "print(test.shape)\n",
    "print(t_train.shape)\n",
    "print(t_test.shape)"
   ]
  },
  {
   "cell_type": "code",
   "execution_count": 9,
   "id": "9470476f",
   "metadata": {},
   "outputs": [],
   "source": [
    "#使用决策树分类\n",
    "from sklearn import tree\n",
    "clf = tree.DecisionTreeClassifier()\n",
    "\n",
    "#训练模型\n",
    "clf = clf.fit(train,t_train)"
   ]
  },
  {
   "cell_type": "code",
   "execution_count": 10,
   "id": "1d03bdbf",
   "metadata": {},
   "outputs": [],
   "source": [
    "#对测试集分类\n",
    "res = clf.predict(test)"
   ]
  },
  {
   "cell_type": "code",
   "execution_count": 11,
   "id": "ca632c40",
   "metadata": {},
   "outputs": [
    {
     "name": "stdout",
     "output_type": "stream",
     "text": [
      "[1 0 2 1 1 0 1 2 1 1 2 0 0 0 0 1 2 1 1 2 0 2 0 2 2 2 2 2 0 0 0 0 1 0 0 2 1\n",
      " 0 0 0 2 1 1 0 0]\n"
     ]
    }
   ],
   "source": [
    "print(res)"
   ]
  },
  {
   "cell_type": "code",
   "execution_count": 12,
   "id": "5736d167",
   "metadata": {},
   "outputs": [
    {
     "data": {
      "text/plain": [
       "array([[19,  0,  0],\n",
       "       [ 0, 13,  0],\n",
       "       [ 0,  0, 13]])"
      ]
     },
     "execution_count": 12,
     "metadata": {},
     "output_type": "execute_result"
    }
   ],
   "source": [
    "#对结果进行评估\n",
    "from sklearn.metrics import confusion_matrix\n",
    "confmat = confusion_matrix(t_test,res)\n",
    "confmat"
   ]
  },
  {
   "cell_type": "code",
   "execution_count": 13,
   "id": "a2bfa022",
   "metadata": {},
   "outputs": [
    {
     "name": "stdout",
     "output_type": "stream",
     "text": [
      "              precision    recall  f1-score   support\n",
      "\n",
      "           0       1.00      1.00      1.00        19\n",
      "           1       1.00      1.00      1.00        13\n",
      "           2       1.00      1.00      1.00        13\n",
      "\n",
      "    accuracy                           1.00        45\n",
      "   macro avg       1.00      1.00      1.00        45\n",
      "weighted avg       1.00      1.00      1.00        45\n",
      "\n"
     ]
    }
   ],
   "source": [
    "from sklearn.metrics import classification_report\n",
    "print(classification_report(t_test,res))"
   ]
  },
  {
   "cell_type": "code",
   "execution_count": 17,
   "id": "aa803c84",
   "metadata": {},
   "outputs": [
    {
     "name": "stdout",
     "output_type": "stream",
     "text": [
      "digraph Tree {\n",
      "node [shape=box, style=\"filled, rounded\", color=\"black\", fontname=\"helvetica\"] ;\n",
      "edge [fontname=\"helvetica\"] ;\n",
      "0 [label=<petal width (cm) &le; 0.8<br/>gini = 0.664<br/>samples = 105<br/>value = [31, 37, 37]<br/>class = versicolor>, fillcolor=\"#ffffff\"] ;\n",
      "1 [label=<gini = 0.0<br/>samples = 31<br/>value = [31, 0, 0]<br/>class = setosa>, fillcolor=\"#e58139\"] ;\n",
      "0 -> 1 [labeldistance=2.5, labelangle=45, headlabel=\"True\"] ;\n",
      "2 [label=<petal width (cm) &le; 1.75<br/>gini = 0.5<br/>samples = 74<br/>value = [0, 37, 37]<br/>class = versicolor>, fillcolor=\"#ffffff\"] ;\n",
      "0 -> 2 [labeldistance=2.5, labelangle=-45, headlabel=\"False\"] ;\n",
      "3 [label=<petal length (cm) &le; 4.95<br/>gini = 0.214<br/>samples = 41<br/>value = [0, 36, 5]<br/>class = versicolor>, fillcolor=\"#54e992\"] ;\n",
      "2 -> 3 ;\n",
      "4 [label=<petal width (cm) &le; 1.6<br/>gini = 0.056<br/>samples = 35<br/>value = [0, 34, 1]<br/>class = versicolor>, fillcolor=\"#3fe685\"] ;\n",
      "3 -> 4 ;\n",
      "5 [label=<gini = 0.0<br/>samples = 34<br/>value = [0, 34, 0]<br/>class = versicolor>, fillcolor=\"#39e581\"] ;\n",
      "4 -> 5 ;\n",
      "6 [label=<gini = 0.0<br/>samples = 1<br/>value = [0, 0, 1]<br/>class = virginica>, fillcolor=\"#8139e5\"] ;\n",
      "4 -> 6 ;\n",
      "7 [label=<petal width (cm) &le; 1.55<br/>gini = 0.444<br/>samples = 6<br/>value = [0, 2, 4]<br/>class = virginica>, fillcolor=\"#c09cf2\"] ;\n",
      "3 -> 7 ;\n",
      "8 [label=<gini = 0.0<br/>samples = 3<br/>value = [0, 0, 3]<br/>class = virginica>, fillcolor=\"#8139e5\"] ;\n",
      "7 -> 8 ;\n",
      "9 [label=<sepal length (cm) &le; 6.95<br/>gini = 0.444<br/>samples = 3<br/>value = [0, 2, 1]<br/>class = versicolor>, fillcolor=\"#9cf2c0\"] ;\n",
      "7 -> 9 ;\n",
      "10 [label=<gini = 0.0<br/>samples = 2<br/>value = [0, 2, 0]<br/>class = versicolor>, fillcolor=\"#39e581\"] ;\n",
      "9 -> 10 ;\n",
      "11 [label=<gini = 0.0<br/>samples = 1<br/>value = [0, 0, 1]<br/>class = virginica>, fillcolor=\"#8139e5\"] ;\n",
      "9 -> 11 ;\n",
      "12 [label=<petal length (cm) &le; 4.85<br/>gini = 0.059<br/>samples = 33<br/>value = [0, 1, 32]<br/>class = virginica>, fillcolor=\"#853fe6\"] ;\n",
      "2 -> 12 ;\n",
      "13 [label=<sepal width (cm) &le; 3.1<br/>gini = 0.444<br/>samples = 3<br/>value = [0, 1, 2]<br/>class = virginica>, fillcolor=\"#c09cf2\"] ;\n",
      "12 -> 13 ;\n",
      "14 [label=<gini = 0.0<br/>samples = 2<br/>value = [0, 0, 2]<br/>class = virginica>, fillcolor=\"#8139e5\"] ;\n",
      "13 -> 14 ;\n",
      "15 [label=<gini = 0.0<br/>samples = 1<br/>value = [0, 1, 0]<br/>class = versicolor>, fillcolor=\"#39e581\"] ;\n",
      "13 -> 15 ;\n",
      "16 [label=<gini = 0.0<br/>samples = 30<br/>value = [0, 0, 30]<br/>class = virginica>, fillcolor=\"#8139e5\"] ;\n",
      "12 -> 16 ;\n",
      "}\n"
     ]
    },
    {
     "data": {
      "text/plain": [
       "'iris.pdf'"
      ]
     },
     "execution_count": 17,
     "metadata": {},
     "output_type": "execute_result"
    }
   ],
   "source": [
    "##决策树可视化\n",
    "#需安装 graphviz\n",
    "import graphviz\n",
    "\n",
    "dot_data = tree.export_graphviz(clf, out_file=None) \n",
    "\n",
    "dot_data = tree.export_graphviz(clf, out_file=None, \n",
    "                         feature_names=iris.feature_names,  \n",
    "                         class_names=iris.target_names,  \n",
    "                         filled=True, rounded=True,  \n",
    "                         special_characters=True)  \n",
    "\n",
    "print(dot_data)\n",
    "\n",
    "graph = graphviz.Source(dot_data) \n",
    "graph.render(\"iris\")"
   ]
  },
  {
   "cell_type": "code",
   "execution_count": null,
   "id": "b6355e2c",
   "metadata": {},
   "outputs": [],
   "source": []
  }
 ],
 "metadata": {
  "kernelspec": {
   "display_name": "Python 3.9.12 ('base')",
   "language": "python",
   "name": "python3"
  },
  "language_info": {
   "codemirror_mode": {
    "name": "ipython",
    "version": 3
   },
   "file_extension": ".py",
   "mimetype": "text/x-python",
   "name": "python",
   "nbconvert_exporter": "python",
   "pygments_lexer": "ipython3",
   "version": "3.9.12"
  },
  "vscode": {
   "interpreter": {
    "hash": "e79788c63ed51b06de5736b0d8bf61bc8660853072061e483e69148ee3916259"
   }
  }
 },
 "nbformat": 4,
 "nbformat_minor": 5
}
